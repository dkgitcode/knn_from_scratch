{
 "cells": [
  {
   "cell_type": "markdown",
   "metadata": {},
   "source": [
    "## Classification with KNN (K-Nearest Neighbors)\n"
   ]
  },
  {
   "cell_type": "code",
   "execution_count": 70,
   "metadata": {},
   "outputs": [
    {
     "name": "stdout",
     "output_type": "stream",
     "text": [
      "Accuracy: 0.9735294117647059, Correct: 662, Total: 680\n"
     ]
    }
   ],
   "source": [
    "from ucimlrepo import fetch_ucirepo \n",
    "import numpy as np\n",
    "import pandas as pd\n",
    "data = fetch_ucirepo(id=602)\n",
    "X = data.data.features\n",
    "y = data.data.targets\n",
    "\n",
    "classes = np.unique(y)\n",
    "\n",
    "# NOTE: Modification just for our case, this dataset is too big for our KNN implementation\n",
    "X = X[:int(len(X)*0.25)]\n",
    "y = y[:int(len(y)*0.25)] \n",
    "\n",
    "\n",
    "\n",
    "def prep_data(X,y):\n",
    "    X = X.copy()\n",
    "    y = y.copy()\n",
    "    \n",
    "    # Encode targets\n",
    "    for i, c in enumerate(classes):\n",
    "        y[y == c] = i\n",
    "\n",
    "    return X.values, y.values\n",
    "\n",
    "\n",
    "\n",
    "def distance(x1, x2):\n",
    "    return np.sqrt(np.sum((x1 - x2)**2))\n",
    "\n",
    "def k_nearest_neighbors(X, x1, k=5):\n",
    "    distances = []\n",
    "    y_values = X[:,-1]\n",
    "    for i in range(len(X)):\n",
    "        d = distance(X[i][:-1], x1)\n",
    "        distances.append((d, y_values[i]))\n",
    "    distances.sort()\n",
    "    return distances[:k]\n",
    "\n",
    "train_set = {}\n",
    "\n",
    "test_set = {}\n",
    "\n",
    "X, y = prep_data(X, y)\n",
    "\n",
    "\n",
    "# Merge X and y\n",
    "X = np.column_stack((X, y))\n",
    "\n",
    "\n",
    "np.random.shuffle(X)\n",
    "\n",
    "test_size = 0.2\n",
    "X_train, X_test = X[:-int(test_size*len(X))], X[-int(test_size*len(X)):]\n",
    "\n",
    "correct = 0\n",
    "total = 0\n",
    "for x in X_test:\n",
    "    \n",
    "    x_true_class = x[-1]\n",
    "    x_feature = x[:-1]\n",
    "    knn = k_nearest_neighbors(X_train, x_feature, 5)\n",
    "    votes = [i[-1] for i in knn]\n",
    "    majority_vote = max(set(votes), key=votes.count)\n",
    "    confidence = votes.count(majority_vote) / len(votes)\n",
    "    \n",
    "    if majority_vote == x_true_class:\n",
    "        correct += 1\n",
    "    total += 1\n",
    "    \n",
    "print(f\"Accuracy: {correct/total}, Correct: {correct}, Total: {total}\")"
   ]
  },
  {
   "cell_type": "markdown",
   "metadata": {},
   "source": [
    "## Class Implementation"
   ]
  },
  {
   "cell_type": "code",
   "execution_count": 67,
   "metadata": {},
   "outputs": [],
   "source": [
    "class KNN:\n",
    "    def __init__(self, k=3):\n",
    "        self.k = k\n",
    "    \n",
    "    def distance(x1, x2):\n",
    "        return np.sqrt(np.sum((x1 - x2)**2))\n",
    "\n",
    "    def k_nearest_neighbors(X, x1, k=5):\n",
    "        distances = []\n",
    "        y_values = X[:,-1]\n",
    "        for i in range(len(X)):\n",
    "            d = distance(X[i][:-1], x1)\n",
    "            distances.append((d, y_values[i]))\n",
    "        distances.sort()\n",
    "        return distances[:k]\n",
    "    \n",
    "    def predict(self, X, x):\n",
    "        knn = k_nearest_neighbors(X, x, self.k)\n",
    "        votes = [i[-1] for i in knn]\n",
    "        majority_vote = max(set(votes), key=votes.count)\n",
    "        confidence = votes.count(majority_vote) / len(votes)\n",
    "        return majority_vote, confidence\n",
    "    \n",
    "    def fit_and_score(self, X):\n",
    "        correct = 0\n",
    "        total = 0\n",
    "        X_train, X_test = X[:int(len(X)*0.8)], X[int(len(X)*0.8):]\n",
    "        \n",
    "        for x in X_test:\n",
    "            vote, confidence = self.predict(X_train, x[:-1])\n",
    "            if vote == x[-1]:\n",
    "                correct += 1\n",
    "            total += 1\n",
    "            \n",
    "        return correct/total\n",
    "        \n"
   ]
  },
  {
   "cell_type": "code",
   "execution_count": 68,
   "metadata": {},
   "outputs": [],
   "source": [
    "clf = KNN(k=3)"
   ]
  },
  {
   "cell_type": "code",
   "execution_count": 69,
   "metadata": {},
   "outputs": [
    {
     "data": {
      "text/plain": [
       "0.986784140969163"
      ]
     },
     "execution_count": 69,
     "metadata": {},
     "output_type": "execute_result"
    }
   ],
   "source": [
    "clf.fit_and_score(X)"
   ]
  },
  {
   "cell_type": "code",
   "execution_count": null,
   "metadata": {},
   "outputs": [],
   "source": []
  }
 ],
 "metadata": {
  "kernelspec": {
   "display_name": "base",
   "language": "python",
   "name": "python3"
  },
  "language_info": {
   "codemirror_mode": {
    "name": "ipython",
    "version": 3
   },
   "file_extension": ".py",
   "mimetype": "text/x-python",
   "name": "python",
   "nbconvert_exporter": "python",
   "pygments_lexer": "ipython3",
   "version": "3.9.13"
  }
 },
 "nbformat": 4,
 "nbformat_minor": 2
}
